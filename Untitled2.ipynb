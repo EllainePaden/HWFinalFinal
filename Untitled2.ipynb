{
  "nbformat": 4,
  "nbformat_minor": 0,
  "metadata": {
    "colab": {
      "name": "Untitled2.ipynb",
      "provenance": [],
      "collapsed_sections": [],
      "authorship_tag": "ABX9TyNciSsuwvbFAezQ/jsTzVna",
      "include_colab_link": true
    },
    "kernelspec": {
      "name": "python3",
      "display_name": "Python 3"
    }
  },
  "cells": [
    {
      "cell_type": "markdown",
      "metadata": {
        "id": "view-in-github",
        "colab_type": "text"
      },
      "source": [
        "<a href=\"https://colab.research.google.com/github/EllainePaden/HWFinalFinal/blob/master/Untitled2.ipynb\" target=\"_parent\"><img src=\"https://colab.research.google.com/assets/colab-badge.svg\" alt=\"Open In Colab\"/></a>"
      ]
    },
    {
      "cell_type": "code",
      "metadata": {
        "id": "_xLnO5bOLTsZ",
        "colab_type": "code",
        "colab": {
          "base_uri": "https://localhost:8080/",
          "height": 119
        },
        "outputId": "854a57f3-2af8-446b-cafa-fc5188bccc39"
      },
      "source": [
        "questions = ['1. How many planets are there in the Solar System? \\nA. 3 \\tB. 9\\n',\n",
        "             '2. What planet is closest to the sun? \\nA. Mars \\tB. Mercury\\n'\n",
        "             '3. Which is the coldest planet of the Solar System? \\nA. Pluto \\tB. Saturn\\n'\n",
        "             '4. Which is the densest planet? \\nA. Earth \\tB. Jupiter\\n'\n",
        "             '5. Which planet is not a terrestial planet \\nA. Saturn \\tB. Mars\\n'\n",
        "             '6. What is the eigt p? \\nA. Earth \\tB. Jupiter\\n'\n",
        "             ]\n",
        "for question in questions:\n",
        "  print(question)\n",
        "\n",
        "\n",
        "  \n"
      ],
      "execution_count": null,
      "outputs": [
        {
          "output_type": "stream",
          "text": [
            "1. How many planets are there in the Solar System? \n",
            "A. 3 \tB. 9\n",
            "\n",
            "2. What planet is closest to the sun? \n",
            "A. Mars \tB. Mercury\n",
            "\n"
          ],
          "name": "stdout"
        }
      ]
    },
    {
      "cell_type": "code",
      "metadata": {
        "id": "PFXBrYTLXT0V",
        "colab_type": "code",
        "colab": {}
      },
      "source": [
        "#Introduction to the Quiz\n",
        "\n",
        "def Introduction():\n",
        "   name = input('Kindly Enter your Name: ')\n",
        "   print(\"Hello\" + \"\\t\" + name.title() + \"!\" + \"\\nWelcome to the Planetary Quiz\" + \"\\nChoose the Correct Answer to the following questions.\")\n",
        "\n",
        "\n",
        "#quiz proper\n",
        "\n",
        "def Quiz():\n",
        "  questions = ['\\n1. How many planets are there in the Solar System? \\nA. 3 \\tB. 9\\n',\n",
        "              '\\n2. What planet is closest to the sun? \\nA. Mars \\tB. Mercury\\n',\n",
        "              '\\n3. Which is the coldest planet of the Solar System? \\nA. Pluto \\tB. Saturn\\n',\n",
        "              '\\n4. Which is the densest planet? \\nA. Earth \\tB. Jupiter\\n',\n",
        "              '\\n5. Which planet is not a terrestial planet \\nA. Saturn \\tB. Mars\\n',\n",
        "              '\\n6. What is the eight planet from the sun? \\nA. Neptune \\tB. Jupiter\\n',\n",
        "              '\\n7. Which planet has the largest ring system? \\nA. Saturn \\tB. Jupiter\\n',\n",
        "              '\\n8. What is the rotational period of Earth? \\nA. 24 hours \\tB. 36 hours\\n',\n",
        "              '\\n9. Which is shorter, Mercury  day or year? \\nA. Day \\tB. Year\\n',\n",
        "              '\\n10. Which planet has the hottest temperature? \\nA. Venus \\tB. Mars\\n'\n",
        "              ]\n",
        "  answers = ['B','B','A','A','A','A','A','A','B','A']\n",
        "\n",
        "  score = 0\n",
        "  a = 0\n",
        "\n",
        "  for question in questions:\n",
        "    print(question)\n",
        "\n",
        "    ans = input(\"Kindly Enter your Answer: \")\n",
        "\n",
        "    if ans.upper() == answers[a]:\n",
        "      print(\"\\nYou are correct!\\n\")\n",
        "      score +=1\n",
        "    else:\n",
        "      print(\"\\nSorry, you got it wrong\\n\")\n",
        "\n",
        "    a +=1\n",
        "\n",
        "  print(\"\\nYour Final Score is:{0} out of 10 \".format(score))\n",
        "  \n",
        "  if score < 6:\n",
        "    print(\"\\nBetter luck next time =(\")\n",
        "  else:\n",
        "    print(\"\\nGood job! =)\")\n",
        "\n",
        "Introduction()\n",
        "Quiz()\n",
        " \n",
        "\n",
        "\n"
      ],
      "execution_count": null,
      "outputs": []
    }
  ]
}